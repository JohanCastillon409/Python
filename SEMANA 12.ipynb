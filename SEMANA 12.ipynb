{
 "cells": [
  {
   "cell_type": "markdown",
   "id": "d9c7746a",
   "metadata": {},
   "source": [
    "**Semana 12: COLAS: Definición, Operaciones e Implementación**\n",
    "😁 **Primero en Entrar es el Primero en Salir - FIFO**\n",
    "💡 **Queue**\n",
    "Operaciones Básicas:\n",
    "\n",
    "1.   Enqueue (elemento): Añade un elemento al final (Encolar).\n",
    "2.   Dequeue(): Elimina y devuelve el elemento que está al frente de la cola (Desencolar).\n",
    "3.   front() o peek(): Devuelve el elemento del sin eliminarlo.\n",
    "4.   isEmpty(): Verifica si la cola está vacía.\n",
    "5.   size(): Devuelve el numero de elementos en la cola."
   ]
  },
  {
   "cell_type": "code",
   "execution_count": 2,
   "id": "fa272fe9",
   "metadata": {},
   "outputs": [
    {
     "name": "stdout",
     "output_type": "stream",
     "text": [
      "Cola creado []\n",
      "La cola esta vacia? True\n"
     ]
    }
   ],
   "source": [
    "# Creando una cola vacia\n",
    "cola = []\n",
    "print(\"Cola creado\", cola)\n",
    "print(\"La cola esta vacia?\", len(cola) == 0)"
   ]
  },
  {
   "cell_type": "code",
   "execution_count": 5,
   "id": "0089dcd4",
   "metadata": {},
   "outputs": [
    {
     "name": "stdout",
     "output_type": "stream",
     "text": [
      "Cola vacia\n",
      "--------\n",
      "Enqueue('A') --> Cola  ['A']\n",
      "Enqueue('B') --> Cola  ['A', 'B']\n",
      "Enqueue('C') --> Cola  ['A', 'B', 'C']\n",
      "FRENTE (proximo a salir):   A\n",
      "FINAL (ultimo a llegar):   C\n"
     ]
    }
   ],
   "source": [
    "# Operacion Enqueue (encolar)\n",
    "cola = []\n",
    "print(\"Cola vacia\")\n",
    "print(\"--------\")\n",
    "cola.append(\"A\")\n",
    "print(\"Enqueue('A') --> Cola \", cola)\n",
    "\n",
    "cola.append(\"B\")\n",
    "print(\"Enqueue('B') --> Cola \", cola)\n",
    "\n",
    "cola.append(\"C\")\n",
    "print(\"Enqueue('C') --> Cola \", cola)\n",
    "\n",
    "print(\"FRENTE (proximo a salir):  \",cola[0])\n",
    "print(\"FINAL (ultimo a llegar):  \",cola[-1])\n"
   ]
  },
  {
   "cell_type": "code",
   "execution_count": 38,
   "id": "ffa21e50",
   "metadata": {},
   "outputs": [
    {
     "name": "stdout",
     "output_type": "stream",
     "text": [
      "Agregado:  [10, 20, 30]\n",
      "10\n"
     ]
    }
   ],
   "source": [
    "# DESAFIO 1:\n",
    "nueva_cola = []\n",
    "nueva_cola.append(10)\n",
    "nueva_cola.append(20)\n",
    "nueva_cola.append(30)\n",
    "\n",
    "print(\"Agregado: \", nueva_cola)\n",
    "# mostrar al frente 😈\n",
    "print(nueva_cola[0])\n",
    "\n",
    "\n",
    "\n"
   ]
  },
  {
   "cell_type": "code",
   "execution_count": null,
   "id": "179c3889",
   "metadata": {},
   "outputs": [
    {
     "name": "stdout",
     "output_type": "stream",
     "text": [
      "Cola inicial:  ['A', 'B', 'C']\n",
      "--------\n",
      "Elemento atendido:  A\n",
      "Nuevo frente:  B\n"
     ]
    }
   ],
   "source": [
    "# DEQUEUE (desencolar) 🎃\n",
    "\n",
    "cola = [\"A\", \"B\", \"C\"]\n",
    "print(\"Cola inicial: \", cola)\n",
    "print(\"--------\")\n",
    "\n",
    "elemento_eliminado = cola.pop(0) #💣\n",
    "print(\"Elemento atendido: \", elemento_eliminado)\n",
    "print(\"Nuevo frente: \", cola[0])\n",
    "\n",
    "\n",
    "\n",
    "\n"
   ]
  },
  {
   "cell_type": "code",
   "execution_count": null,
   "id": "9d963787",
   "metadata": {},
   "outputs": [
    {
     "name": "stdout",
     "output_type": "stream",
     "text": [
      "Elemento atendido 1:  5\n",
      "Elemento atendido 2:  10\n",
      "Cola despues de atender:  [15, 20]\n"
     ]
    }
   ],
   "source": [
    "# DESAFIO 2\n",
    "\n",
    "# CREA UNA COLA DE [5, 10, 15,20]\n",
    "\n",
    "colita =  [5, 10, 15,20]\n",
    "elemento_atendido1 = colita.pop(0)\n",
    "elemento_atendido2 = colita.pop(0)\n",
    "\n",
    "print(\"Elemento atendido 1: \", elemento_atendido1)\n",
    "print(\"Elemento atendido 2: \", elemento_atendido2)\n",
    "\n",
    "print(\"Cola despues de atender: \", colita)\n"
   ]
  },
  {
   "cell_type": "code",
   "execution_count": 28,
   "id": "31fa053c",
   "metadata": {},
   "outputs": [
    {
     "data": {
      "text/plain": [
       "True"
      ]
     },
     "execution_count": 28,
     "metadata": {},
     "output_type": "execute_result"
    }
   ],
   "source": [
    "# FRONT\n",
    "\n",
    "def front(cola):\n",
    "    if len(cola) == 0:\n",
    "        return None\n",
    "    return cola[0]\n",
    "\n",
    "def isEmpty(cola):\n",
    "    return len(cola) == 0\n",
    "\n",
    "\n",
    "colaX = []\n",
    "\n",
    "isEmpty(colaX)\n",
    "\n"
   ]
  },
  {
   "cell_type": "code",
   "execution_count": 29,
   "id": "ecfd44ae",
   "metadata": {},
   "outputs": [
    {
     "name": "stdout",
     "output_type": "stream",
     "text": [
      "[1, 2, 3]\n",
      "FRON:  1\n",
      "La cola esta vacia?  False\n"
     ]
    }
   ],
   "source": [
    "cola2 = [1,2,3]\n",
    "print(cola2)\n",
    "print(\"FRON: \", front(cola2))\n",
    "print(\"La cola esta vacia? \", isEmpty(cola2))"
   ]
  },
  {
   "cell_type": "code",
   "execution_count": 36,
   "id": "1848565d",
   "metadata": {},
   "outputs": [
    {
     "name": "stdout",
     "output_type": "stream",
     "text": [
      "El tamaño de la cola es de 3 elementos\n"
     ]
    }
   ],
   "source": [
    "# DESAFIO 3\n",
    "\n",
    "def tamanio(cola):\n",
    "    if len(cola) == 0:\n",
    "       return None\n",
    "    else:\n",
    "     return f\"El tamaño de la cola es de {len(cola)} elementos\"\n",
    "\n",
    "# prueba\n",
    "print(tamanio(cola2))"
   ]
  },
  {
   "cell_type": "code",
   "execution_count": 1,
   "id": "37f6dda6",
   "metadata": {},
   "outputs": [
    {
     "name": "stdout",
     "output_type": "stream",
     "text": [
      "Imprimiendo...\n",
      "  - Doc1.pdf\n",
      "  - Doc2.docx\n",
      "  - Doc3.pdf\n",
      "  - Doc4.js\n",
      "\n",
      "Documentos restantes en cola: 0\n"
     ]
    },
    {
     "data": {
      "text/plain": [
       "0"
      ]
     },
     "execution_count": 1,
     "metadata": {},
     "output_type": "execute_result"
    }
   ],
   "source": [
    "def cola_imprimir(documentos):\n",
    "    if len(documentos) == 0:\n",
    "        return None\n",
    "    print(\"Imprimiendo...\")\n",
    "    \n",
    "    for documento in documentos:\n",
    "        print(f\"  - {documento}\")\n",
    "    \n",
    "    documentos_restantes = len(documentos) - len(documentos)  # Siempre 0 si se imprimen todos\n",
    "    \n",
    "    print(f\"\\nDocumentos restantes en cola: {documentos_restantes}\")\n",
    "    \n",
    "    return documentos_restantes\n",
    "\n",
    "\n",
    "documentos = [\"Doc1.pdf\", \"Doc2.docx\", \"Doc3.pdf\", \"Doc4.js\"]\n",
    "cola_imprimir(documentos)"
   ]
  }
 ],
 "metadata": {
  "kernelspec": {
   "display_name": "Python 3",
   "language": "python",
   "name": "python3"
  },
  "language_info": {
   "codemirror_mode": {
    "name": "ipython",
    "version": 3
   },
   "file_extension": ".py",
   "mimetype": "text/x-python",
   "name": "python",
   "nbconvert_exporter": "python",
   "pygments_lexer": "ipython3",
   "version": "3.13.7"
  }
 },
 "nbformat": 4,
 "nbformat_minor": 5
}
