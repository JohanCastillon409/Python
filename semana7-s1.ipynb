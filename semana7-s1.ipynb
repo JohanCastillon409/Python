{
 "cells": [
  {
   "cell_type": "code",
   "execution_count": 1,
   "id": "66146451",
   "metadata": {},
   "outputs": [
    {
     "name": "stdout",
     "output_type": "stream",
     "text": [
      "Hola Mundo\n"
     ]
    }
   ],
   "source": [
    "print(\"Hola Mundo\")"
   ]
  },
  {
   "cell_type": "markdown",
   "id": "226b0f64",
   "metadata": {},
   "source": [
    "# Listas Enlazadas\n",
    "Las **Listas Enlazadas** son estructuras de datos donde cada elemento\n",
    "denominado **nodo** contiene datos y una rferencia al sigueinte nodo."
   ]
  },
  {
   "cell_type": "code",
   "execution_count": 3,
   "id": "b8762a54",
   "metadata": {},
   "outputs": [
    {
     "name": "stdout",
     "output_type": "stream",
     "text": [
      "Nodo 1: 10\n",
      "Nodo 2: 20\n",
      "Nodo 3: 30\n"
     ]
    }
   ],
   "source": [
    "class Nodo:\n",
    "    def __init__(self, dato):\n",
    "        self.dato = dato\n",
    "        self.siguiente = None\n",
    "# Crear nodos individuales\n",
    "nodo1 = Nodo(10)\n",
    "nodo2 = Nodo(20)\n",
    "nodo3 = Nodo(30)\n",
    "\n",
    "print(f\"Nodo 1: {nodo1.dato}\")\n",
    "print(f\"Nodo 2: {nodo2.dato}\")\n",
    "print(f\"Nodo 3: {nodo3.dato}\")\n"
   ]
  },
  {
   "cell_type": "code",
   "execution_count": 4,
   "id": "b2b3a860",
   "metadata": {},
   "outputs": [
    {
     "name": "stdout",
     "output_type": "stream",
     "text": [
      "Dato: 10\n",
      "Dato: 20\n",
      "Dato: 30\n"
     ]
    }
   ],
   "source": [
    "# Enlazando los Nodos\n",
    "nodo1.siguiente = nodo2\n",
    "nodo2.siguiente = nodo3\n",
    "# nodo3.siguiente = None (No es necesario porque el \n",
    "# constructor ya lo define como None)\n",
    "\n",
    "# Recorrer la lista enlazada\n",
    "actual = nodo1\n",
    "while actual:\n",
    "    print(f\"Dato: {actual.dato}\")\n",
    "    actual = actual.siguiente"
   ]
  },
  {
   "cell_type": "code",
   "execution_count": 6,
   "id": "2bd32573",
   "metadata": {},
   "outputs": [
    {
     "name": "stdout",
     "output_type": "stream",
     "text": [
      "Elementos en la Lista:  [25, 15, 5]\n"
     ]
    }
   ],
   "source": [
    "class ListaEnlazada:\n",
    "    def __init__(self):\n",
    "        self.cabeza = None\n",
    "    \n",
    "    def agregar(self,dato):\n",
    "        nuevo_nodo = Nodo(dato)\n",
    "        nuevo_nodo.siguiente = self.cabeza\n",
    "        self.cabeza = nuevo_nodo\n",
    "    \n",
    "    def mostrar(self):\n",
    "        elementos = []\n",
    "        actual = self.cabeza\n",
    "        while actual:\n",
    "            elementos.append(actual.dato)\n",
    "            actual = actual.siguiente\n",
    "        return elementos\n",
    "\n",
    "# Creamos y usamos la lista enlazada\n",
    "lista = ListaEnlazada()   \n",
    "lista.agregar(5)\n",
    "lista.agregar(15)\n",
    "lista.agregar(25)\n",
    "print(\"Elementos en la Lista: \", lista.mostrar())"
   ]
  },
  {
   "cell_type": "code",
   "execution_count": null,
   "id": "8a92f0ef",
   "metadata": {},
   "outputs": [],
   "source": []
  }
 ],
 "metadata": {
  "kernelspec": {
   "display_name": "Python 3",
   "language": "python",
   "name": "python3"
  },
  "language_info": {
   "codemirror_mode": {
    "name": "ipython",
    "version": 3
   },
   "file_extension": ".py",
   "mimetype": "text/x-python",
   "name": "python",
   "nbconvert_exporter": "python",
   "pygments_lexer": "ipython3",
   "version": "3.13.7"
  }
 },
 "nbformat": 4,
 "nbformat_minor": 5
}
